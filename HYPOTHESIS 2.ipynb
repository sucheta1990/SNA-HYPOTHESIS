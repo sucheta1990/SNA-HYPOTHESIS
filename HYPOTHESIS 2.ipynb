{
 "cells": [
  {
   "cell_type": "markdown",
   "id": "9a5a65b4",
   "metadata": {},
   "source": [
    "LAB TAT SAMPLES RECORDS"
   ]
  },
  {
   "cell_type": "markdown",
   "id": "c82650b7",
   "metadata": {},
   "source": [
    "# question2"
   ]
  },
  {
   "cell_type": "markdown",
   "id": "92253ee6",
   "metadata": {},
   "source": [
    "HO=ALL THE LAB TAT REPORTS ARE SAME::: H1=ATLEAST ONE OF THE LAB TAT REPORT IS DIFFERENT"
   ]
  },
  {
   "cell_type": "code",
   "execution_count": 13,
   "id": "71d4c914",
   "metadata": {},
   "outputs": [],
   "source": [
    "tat1=pd.read_csv(\"labTAT.csv\") # HO=all the lab TAT reports are same;;H1=atleast one of the labTAT report is different"
   ]
  },
  {
   "cell_type": "code",
   "execution_count": 14,
   "id": "c00a54fd",
   "metadata": {},
   "outputs": [
    {
     "data": {
      "text/html": [
       "<div>\n",
       "<style scoped>\n",
       "    .dataframe tbody tr th:only-of-type {\n",
       "        vertical-align: middle;\n",
       "    }\n",
       "\n",
       "    .dataframe tbody tr th {\n",
       "        vertical-align: top;\n",
       "    }\n",
       "\n",
       "    .dataframe thead th {\n",
       "        text-align: right;\n",
       "    }\n",
       "</style>\n",
       "<table border=\"1\" class=\"dataframe\">\n",
       "  <thead>\n",
       "    <tr style=\"text-align: right;\">\n",
       "      <th></th>\n",
       "      <th>Laboratory 1</th>\n",
       "      <th>Laboratory 2</th>\n",
       "      <th>Laboratory 3</th>\n",
       "      <th>Laboratory 4</th>\n",
       "    </tr>\n",
       "  </thead>\n",
       "  <tbody>\n",
       "    <tr>\n",
       "      <th>0</th>\n",
       "      <td>185.35</td>\n",
       "      <td>165.53</td>\n",
       "      <td>176.70</td>\n",
       "      <td>166.13</td>\n",
       "    </tr>\n",
       "    <tr>\n",
       "      <th>1</th>\n",
       "      <td>170.49</td>\n",
       "      <td>185.91</td>\n",
       "      <td>198.45</td>\n",
       "      <td>160.79</td>\n",
       "    </tr>\n",
       "    <tr>\n",
       "      <th>2</th>\n",
       "      <td>192.77</td>\n",
       "      <td>194.92</td>\n",
       "      <td>201.23</td>\n",
       "      <td>185.18</td>\n",
       "    </tr>\n",
       "  </tbody>\n",
       "</table>\n",
       "</div>"
      ],
      "text/plain": [
       "   Laboratory 1  Laboratory 2  Laboratory 3  Laboratory 4\n",
       "0        185.35        165.53        176.70        166.13\n",
       "1        170.49        185.91        198.45        160.79\n",
       "2        192.77        194.92        201.23        185.18"
      ]
     },
     "execution_count": 14,
     "metadata": {},
     "output_type": "execute_result"
    }
   ],
   "source": [
    "tat1.head(3)"
   ]
  },
  {
   "cell_type": "code",
   "execution_count": 15,
   "id": "c50f3b85",
   "metadata": {},
   "outputs": [
    {
     "name": "stdout",
     "output_type": "stream",
     "text": [
      "2.1156708949992414e-57\n",
      "accept alternative hypothesis\n"
     ]
    }
   ],
   "source": [
    "f_oneway,x=stats.f_oneway(tat1.iloc[:,0],tat1.iloc[:,1],tat1.iloc[:,2],tat1.iloc[:,3])\n",
    "print(float(x))\n",
    "if x>0.05:\n",
    "    print(\"accept null hypothises\")\n",
    "else:\n",
    "        print(\"accept alternative hypothesis\")"
   ]
  },
  {
   "cell_type": "markdown",
   "id": "0c11d652",
   "metadata": {},
   "source": [
    "Here  p value is smaller than 0.05 so accept the alternative hypothesis"
   ]
  }
 ],
 "metadata": {
  "kernelspec": {
   "display_name": "Python 3",
   "language": "python",
   "name": "python3"
  },
  "language_info": {
   "codemirror_mode": {
    "name": "ipython",
    "version": 3
   },
   "file_extension": ".py",
   "mimetype": "text/x-python",
   "name": "python",
   "nbconvert_exporter": "python",
   "pygments_lexer": "ipython3",
   "version": "3.8.8"
  }
 },
 "nbformat": 4,
 "nbformat_minor": 5
}
