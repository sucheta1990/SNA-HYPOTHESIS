{
 "cells": [
  {
   "cell_type": "markdown",
   "id": "7dcfd461",
   "metadata": {},
   "source": [
    "#BUYER'S RATIO"
   ]
  },
  {
   "cell_type": "markdown",
   "id": "9d194601",
   "metadata": {},
   "source": [
    "H0= ALL THE PROPORTIONS ARE EQUAL ::: H1= NOT ALL PROPORTIONS ARE EQUAL"
   ]
  },
  {
   "cell_type": "code",
   "execution_count": 1,
   "id": "7be53d27",
   "metadata": {},
   "outputs": [],
   "source": [
    "from scipy.stats import chi2_contingency\n",
    "import numpy as np\n",
    "import pandas"
   ]
  },
  {
   "cell_type": "code",
   "execution_count": 2,
   "id": "effecf1b",
   "metadata": {},
   "outputs": [
    {
     "ename": "NameError",
     "evalue": "name 'pd' is not defined",
     "output_type": "error",
     "traceback": [
      "\u001b[1;31m---------------------------------------------------------------------------\u001b[0m",
      "\u001b[1;31mNameError\u001b[0m                                 Traceback (most recent call last)",
      "\u001b[1;32m<ipython-input-2-c6aaca315fa0>\u001b[0m in \u001b[0;36m<module>\u001b[1;34m\u001b[0m\n\u001b[1;32m----> 1\u001b[1;33m \u001b[0mdf\u001b[0m\u001b[1;33m=\u001b[0m\u001b[0mpd\u001b[0m\u001b[1;33m.\u001b[0m\u001b[0mread_csv\u001b[0m\u001b[1;33m(\u001b[0m\u001b[1;34m\"BuyerRatio.csv\"\u001b[0m\u001b[1;33m)\u001b[0m \u001b[1;31m# H0=all proportions are equal :: H1= not all proportions are equal\u001b[0m\u001b[1;33m\u001b[0m\u001b[1;33m\u001b[0m\u001b[0m\n\u001b[0m",
      "\u001b[1;31mNameError\u001b[0m: name 'pd' is not defined"
     ]
    }
   ],
   "source": [
    "df=pd.read_csv(\"BuyerRatio.csv\") # H0=all proportions are equal :: H1= not all proportions are equal"
   ]
  },
  {
   "cell_type": "code",
   "execution_count": null,
   "id": "a9c15039",
   "metadata": {},
   "outputs": [],
   "source": [
    "df"
   ]
  },
  {
   "cell_type": "code",
   "execution_count": null,
   "id": "02701cf9",
   "metadata": {},
   "outputs": [],
   "source": [
    "df_M=pd.Series(df.iloc[0,1:]).values\n",
    "df_M"
   ]
  },
  {
   "cell_type": "code",
   "execution_count": null,
   "id": "270b2b08",
   "metadata": {},
   "outputs": [],
   "source": [
    "df_F=pd.Series(df.iloc[1,1:]).values\n",
    "df_F"
   ]
  },
  {
   "cell_type": "code",
   "execution_count": null,
   "id": "dd1520d9",
   "metadata": {},
   "outputs": [],
   "source": [
    "# forming the matrix of Males and Females Series\n",
    "df_matrix=[df_M,df_F]\n",
    "df_matrix"
   ]
  },
  {
   "cell_type": "code",
   "execution_count": null,
   "id": "2cbceb49",
   "metadata": {},
   "outputs": [],
   "source": [
    " stat,p,dof,excepted = chi2_contingency(df_matrix)\n",
    " # to interprete Pvalue\n",
    "alpha =0.05 # 5% significance level\n",
    "print(\"p value is \",(p))\n",
    "if p <= alpha:\n",
    "    print(\"reject H0 \")\n",
    "else:\n",
    "        print(\"accept H1\")\n",
    "    "
   ]
  },
  {
   "cell_type": "markdown",
   "id": "47c3b4f7",
   "metadata": {},
   "source": [
    "SINCE THE VALUE OF 'p' IS GREATER THAN TH SIGNIFICANT VALUE (i.e 5%) REJECT NULL HYPOTHESIS AND ACCEPT THE ALTERNATE HYPOTHESIS"
   ]
  }
 ],
 "metadata": {
  "kernelspec": {
   "display_name": "Python 3",
   "language": "python",
   "name": "python3"
  },
  "language_info": {
   "codemirror_mode": {
    "name": "ipython",
    "version": 3
   },
   "file_extension": ".py",
   "mimetype": "text/x-python",
   "name": "python",
   "nbconvert_exporter": "python",
   "pygments_lexer": "ipython3",
   "version": "3.8.8"
  }
 },
 "nbformat": 4,
 "nbformat_minor": 5
}
