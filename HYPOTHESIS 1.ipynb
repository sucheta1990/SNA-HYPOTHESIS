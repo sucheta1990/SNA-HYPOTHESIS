{
 "cells": [
  {
   "cell_type": "markdown",
   "id": "dfc78f2c",
   "metadata": {},
   "source": [
    "HYPOTHESIS TETING ON THE DIAMETER OF CULTETS"
   ]
  },
  {
   "cell_type": "code",
   "execution_count": 1,
   "id": "5d60f775",
   "metadata": {},
   "outputs": [],
   "source": [
    "import pandas as pd \n",
    "import numpy as np\n",
    "import scipy \n",
    "from scipy import stats\n",
    "import statsmodels.api as sm\n",
    "import matplotlib.pyplot as plt"
   ]
  },
  {
   "cell_type": "markdown",
   "id": "8d352fb2",
   "metadata": {},
   "source": [
    "HO: DIAMETER OF THE CUTLET BETWEEN TWO UNITS IS SAME ::H1=DIAMETER OF THE CUTLET BETWEEN TWO UNITS IS NOT SAME"
   ]
  },
  {
   "cell_type": "code",
   "execution_count": 2,
   "id": "5a7232c9",
   "metadata": {},
   "outputs": [],
   "source": [
    "# H0: data is normal,H1 data is not normal i.e givem significant lvel 5% p>0.05 H0,p<0.05 H1\n",
    "data=pd.read_csv(\"Cutlets.csv\")"
   ]
  },
  {
   "cell_type": "code",
   "execution_count": 3,
   "id": "181e0015",
   "metadata": {},
   "outputs": [
    {
     "data": {
      "text/html": [
       "<div>\n",
       "<style scoped>\n",
       "    .dataframe tbody tr th:only-of-type {\n",
       "        vertical-align: middle;\n",
       "    }\n",
       "\n",
       "    .dataframe tbody tr th {\n",
       "        vertical-align: top;\n",
       "    }\n",
       "\n",
       "    .dataframe thead th {\n",
       "        text-align: right;\n",
       "    }\n",
       "</style>\n",
       "<table border=\"1\" class=\"dataframe\">\n",
       "  <thead>\n",
       "    <tr style=\"text-align: right;\">\n",
       "      <th></th>\n",
       "      <th>Unit A</th>\n",
       "      <th>Unit B</th>\n",
       "    </tr>\n",
       "  </thead>\n",
       "  <tbody>\n",
       "    <tr>\n",
       "      <th>0</th>\n",
       "      <td>6.8090</td>\n",
       "      <td>6.7703</td>\n",
       "    </tr>\n",
       "    <tr>\n",
       "      <th>1</th>\n",
       "      <td>6.4376</td>\n",
       "      <td>7.5093</td>\n",
       "    </tr>\n",
       "    <tr>\n",
       "      <th>2</th>\n",
       "      <td>6.9157</td>\n",
       "      <td>6.7300</td>\n",
       "    </tr>\n",
       "    <tr>\n",
       "      <th>3</th>\n",
       "      <td>7.3012</td>\n",
       "      <td>6.7878</td>\n",
       "    </tr>\n",
       "    <tr>\n",
       "      <th>4</th>\n",
       "      <td>7.4488</td>\n",
       "      <td>7.1522</td>\n",
       "    </tr>\n",
       "  </tbody>\n",
       "</table>\n",
       "</div>"
      ],
      "text/plain": [
       "   Unit A  Unit B\n",
       "0  6.8090  6.7703\n",
       "1  6.4376  7.5093\n",
       "2  6.9157  6.7300\n",
       "3  7.3012  6.7878\n",
       "4  7.4488  7.1522"
      ]
     },
     "execution_count": 3,
     "metadata": {},
     "output_type": "execute_result"
    }
   ],
   "source": [
    "data.head()"
   ]
  },
  {
   "cell_type": "code",
   "execution_count": 4,
   "id": "465c15cd",
   "metadata": {},
   "outputs": [
    {
     "data": {
      "text/html": [
       "<div>\n",
       "<style scoped>\n",
       "    .dataframe tbody tr th:only-of-type {\n",
       "        vertical-align: middle;\n",
       "    }\n",
       "\n",
       "    .dataframe tbody tr th {\n",
       "        vertical-align: top;\n",
       "    }\n",
       "\n",
       "    .dataframe thead th {\n",
       "        text-align: right;\n",
       "    }\n",
       "</style>\n",
       "<table border=\"1\" class=\"dataframe\">\n",
       "  <thead>\n",
       "    <tr style=\"text-align: right;\">\n",
       "      <th></th>\n",
       "      <th>Unit A</th>\n",
       "    </tr>\n",
       "  </thead>\n",
       "  <tbody>\n",
       "    <tr>\n",
       "      <th>0</th>\n",
       "      <td>6.8090</td>\n",
       "    </tr>\n",
       "    <tr>\n",
       "      <th>1</th>\n",
       "      <td>6.4376</td>\n",
       "    </tr>\n",
       "    <tr>\n",
       "      <th>2</th>\n",
       "      <td>6.9157</td>\n",
       "    </tr>\n",
       "  </tbody>\n",
       "</table>\n",
       "</div>"
      ],
      "text/plain": [
       "   Unit A\n",
       "0  6.8090\n",
       "1  6.4376\n",
       "2  6.9157"
      ]
     },
     "execution_count": 4,
     "metadata": {},
     "output_type": "execute_result"
    }
   ],
   "source": [
    "data_col1=data[[\"Unit A\"]]\n",
    "data_col1.head(3)"
   ]
  },
  {
   "cell_type": "code",
   "execution_count": 5,
   "id": "2f4900c7",
   "metadata": {},
   "outputs": [
    {
     "name": "stdout",
     "output_type": "stream",
     "text": [
      "<class 'pandas.core.frame.DataFrame'>\n",
      "RangeIndex: 35 entries, 0 to 34\n",
      "Data columns (total 2 columns):\n",
      " #   Column  Non-Null Count  Dtype  \n",
      "---  ------  --------------  -----  \n",
      " 0   Unit A  35 non-null     float64\n",
      " 1   Unit B  35 non-null     float64\n",
      "dtypes: float64(2)\n",
      "memory usage: 688.0 bytes\n"
     ]
    }
   ],
   "source": [
    "data.info()"
   ]
  },
  {
   "cell_type": "code",
   "execution_count": 6,
   "id": "1ca0ee2a",
   "metadata": {},
   "outputs": [
    {
     "data": {
      "text/plain": [
       "(Unit B    6.964297\n",
       " dtype: float64,\n",
       " Unit A    7.019091\n",
       " dtype: float64)"
      ]
     },
     "execution_count": 6,
     "metadata": {},
     "output_type": "execute_result"
    }
   ],
   "source": [
    "x1=data[[\"Unit A\"]].mean()\n",
    "x2=data[[\"Unit B\"]].mean()\n",
    "x2,x1\n"
   ]
  },
  {
   "cell_type": "code",
   "execution_count": 7,
   "id": "e0595353",
   "metadata": {},
   "outputs": [
    {
     "data": {
      "text/html": [
       "<div>\n",
       "<style scoped>\n",
       "    .dataframe tbody tr th:only-of-type {\n",
       "        vertical-align: middle;\n",
       "    }\n",
       "\n",
       "    .dataframe tbody tr th {\n",
       "        vertical-align: top;\n",
       "    }\n",
       "\n",
       "    .dataframe thead th {\n",
       "        text-align: right;\n",
       "    }\n",
       "</style>\n",
       "<table border=\"1\" class=\"dataframe\">\n",
       "  <thead>\n",
       "    <tr style=\"text-align: right;\">\n",
       "      <th></th>\n",
       "      <th>Unit B</th>\n",
       "    </tr>\n",
       "  </thead>\n",
       "  <tbody>\n",
       "    <tr>\n",
       "      <th>0</th>\n",
       "      <td>6.7703</td>\n",
       "    </tr>\n",
       "    <tr>\n",
       "      <th>1</th>\n",
       "      <td>7.5093</td>\n",
       "    </tr>\n",
       "    <tr>\n",
       "      <th>2</th>\n",
       "      <td>6.7300</td>\n",
       "    </tr>\n",
       "  </tbody>\n",
       "</table>\n",
       "</div>"
      ],
      "text/plain": [
       "   Unit B\n",
       "0  6.7703\n",
       "1  7.5093\n",
       "2  6.7300"
      ]
     },
     "execution_count": 7,
     "metadata": {},
     "output_type": "execute_result"
    }
   ],
   "source": [
    "data_col2=data[[\"Unit B\"]]\n",
    "data_col2.head(3)"
   ]
  },
  {
   "cell_type": "code",
   "execution_count": 8,
   "id": "ce8ba2a2",
   "metadata": {},
   "outputs": [
    {
     "data": {
      "text/plain": [
       "Ttest_indResult(statistic=array([0.72286887]), pvalue=array([0.47223947]))"
      ]
     },
     "execution_count": 8,
     "metadata": {},
     "output_type": "execute_result"
    }
   ],
   "source": [
    "# twotail test and pvalue because my hypothesis assumation is type 1\n",
    "value=stats.ttest_ind(data_col1,data_col2,alternative=\"two-sided\")\n",
    "value"
   ]
  },
  {
   "cell_type": "markdown",
   "id": "fddfa13c",
   "metadata": {},
   "source": [
    " p value is 0.4722 which is greater than 0.05 significant level so null Hypothesis is selected"
   ]
  },
  {
   "cell_type": "code",
   "execution_count": 9,
   "id": "d6e9642a",
   "metadata": {},
   "outputs": [
    {
     "data": {
      "text/plain": [
       "NormaltestResult(statistic=array([2.76116448]), pvalue=array([0.25143212]))"
      ]
     },
     "execution_count": 9,
     "metadata": {},
     "output_type": "execute_result"
    }
   ],
   "source": [
    "var_tA=stats.normaltest(data_col1,axis=0,nan_policy='omit')\n",
    "var_tA"
   ]
  },
  {
   "cell_type": "code",
   "execution_count": 10,
   "id": "62d5e2ad",
   "metadata": {},
   "outputs": [
    {
     "data": {
      "text/plain": [
       "NormaltestResult(statistic=array([1.22847999]), pvalue=array([0.54105194]))"
      ]
     },
     "execution_count": 10,
     "metadata": {},
     "output_type": "execute_result"
    }
   ],
   "source": [
    "var_tB=stats.normaltest(data_col2,axis=0,nan_policy='omit')\n",
    "var_tB"
   ]
  },
  {
   "cell_type": "markdown",
   "id": "741bc2f4",
   "metadata": {},
   "source": [
    "form normalitytest if find the p value is > 0.05 so null Hypothises is chosen i.e data are normal,there is no significan differnce int he diameter of cutlets."
   ]
  },
  {
   "cell_type": "code",
   "execution_count": 11,
   "id": "e93f2597",
   "metadata": {},
   "outputs": [],
   "source": [
    "from statsmodels.stats import weightstats as stests"
   ]
  },
  {
   "cell_type": "code",
   "execution_count": 12,
   "id": "0352f635",
   "metadata": {},
   "outputs": [
    {
     "name": "stdout",
     "output_type": "stream",
     "text": [
      "0.46976045023906055\n",
      "accept null hyppothises\n"
     ]
    }
   ],
   "source": [
    "ztest,value_z= stests.ztest(x1=data[\"Unit A\"],x2=data[\"Unit B\"],value=0,alternative='two-sided')\n",
    "print(float(value_z))\n",
    "if value_z< 0.05:\n",
    "    print(\"reject null hypothises\")\n",
    "else:\n",
    "        print(\"accept null hyppothises\")"
   ]
  },
  {
   "cell_type": "markdown",
   "id": "b09c1e84",
   "metadata": {},
   "source": [
    "from the ztest we come to conclusion that to accept null hypothises"
   ]
  },
  {
   "cell_type": "code",
   "execution_count": null,
   "id": "abb1dfe3",
   "metadata": {},
   "outputs": [],
   "source": []
  }
 ],
 "metadata": {
  "kernelspec": {
   "display_name": "Python 3",
   "language": "python",
   "name": "python3"
  },
  "language_info": {
   "codemirror_mode": {
    "name": "ipython",
    "version": 3
   },
   "file_extension": ".py",
   "mimetype": "text/x-python",
   "name": "python",
   "nbconvert_exporter": "python",
   "pygments_lexer": "ipython3",
   "version": "3.8.8"
  }
 },
 "nbformat": 4,
 "nbformat_minor": 5
}
